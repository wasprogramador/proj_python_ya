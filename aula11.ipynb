{
  "nbformat": 4,
  "nbformat_minor": 0,
  "metadata": {
    "colab": {
      "provenance": [],
      "toc_visible": true
    },
    "kernelspec": {
      "name": "python3",
      "display_name": "Python 3"
    },
    "language_info": {
      "name": "python"
    }
  },
  "cells": [
    {
      "cell_type": "code",
      "execution_count": null,
      "metadata": {
        "id": "P4JKGubbE0LX"
      },
      "outputs": [],
      "source": []
    },
    {
      "cell_type": "markdown",
      "source": [],
      "metadata": {
        "id": "CmBj_TmHF6sO"
      }
    },
    {
      "cell_type": "code",
      "source": [],
      "metadata": {
        "id": "nN7wB4T_IC32"
      },
      "execution_count": 90,
      "outputs": []
    },
    {
      "cell_type": "markdown",
      "source": [
        "Requisição de um API\n"
      ],
      "metadata": {
        "id": "rOZ0vEm-IFYg"
      }
    },
    {
      "cell_type": "code",
      "source": [
        "pip install requests"
      ],
      "metadata": {
        "colab": {
          "base_uri": "https://localhost:8080/"
        },
        "id": "hlBCaZRxIJ_B",
        "outputId": "8d90448c-2f5e-425c-cd96-cc5e0c62b7cf"
      },
      "execution_count": 91,
      "outputs": [
        {
          "output_type": "stream",
          "name": "stdout",
          "text": [
            "Requirement already satisfied: requests in /usr/local/lib/python3.10/dist-packages (2.32.3)\n",
            "Requirement already satisfied: charset-normalizer<4,>=2 in /usr/local/lib/python3.10/dist-packages (from requests) (3.4.0)\n",
            "Requirement already satisfied: idna<4,>=2.5 in /usr/local/lib/python3.10/dist-packages (from requests) (3.10)\n",
            "Requirement already satisfied: urllib3<3,>=1.21.1 in /usr/local/lib/python3.10/dist-packages (from requests) (2.2.3)\n",
            "Requirement already satisfied: certifi>=2017.4.17 in /usr/local/lib/python3.10/dist-packages (from requests) (2024.8.30)\n"
          ]
        }
      ]
    },
    {
      "cell_type": "markdown",
      "source": [
        "Importando bibbliotecas"
      ],
      "metadata": {
        "id": "iWty6SdsGMng"
      }
    },
    {
      "cell_type": "code",
      "source": [
        "import requests\n",
        "import json"
      ],
      "metadata": {
        "id": "W2Dpn_UAGFMT"
      },
      "execution_count": 92,
      "outputs": []
    },
    {
      "cell_type": "markdown",
      "source": [
        "Importando URL"
      ],
      "metadata": {
        "id": "u6xR7pT4GRsS"
      }
    },
    {
      "cell_type": "code",
      "source": [
        "url = \"https://economia.awesomeapi.com.br/json/last/USD-BRL\""
      ],
      "metadata": {
        "id": "QW8ePhxaGU3c"
      },
      "execution_count": 93,
      "outputs": []
    },
    {
      "cell_type": "code",
      "source": [
        "cotacao = requests.get(url).content"
      ],
      "metadata": {
        "id": "6-ujJRVCIjBF"
      },
      "execution_count": 94,
      "outputs": []
    },
    {
      "cell_type": "markdown",
      "source": [
        "Ler arquivo JSON"
      ],
      "metadata": {
        "id": "7QQSlw1CJM7k"
      }
    },
    {
      "cell_type": "code",
      "source": [
        "dic = json.loads(cotacao)"
      ],
      "metadata": {
        "id": "820A2nwcJKWZ"
      },
      "execution_count": 95,
      "outputs": []
    },
    {
      "cell_type": "markdown",
      "source": [
        "Visualizar o valor do Dolar"
      ],
      "metadata": {
        "id": "a3_h1XJsJtgk"
      }
    },
    {
      "cell_type": "code",
      "source": [
        "dic[\"USDBRL\"][\"bid\"]\n",
        "print(dic.values())"
      ],
      "metadata": {
        "colab": {
          "base_uri": "https://localhost:8080/"
        },
        "id": "XVSPeuwQJxA5",
        "outputId": "3b60fd22-54b4-4f5e-f384-eea48d806b39"
      },
      "execution_count": 96,
      "outputs": [
        {
          "output_type": "stream",
          "name": "stdout",
          "text": [
            "dict_values([{'code': 'USD', 'codein': 'BRL', 'name': 'Dólar Americano/Real Brasileiro', 'high': '5.8175', 'low': '5.7235', 'varBid': '0.0005', 'pctChange': '0.01', 'bid': '5.8061', 'ask': '5.8071', 'timestamp': '1731533401', 'create_date': '2024-11-13 18:30:01'}])\n"
          ]
        }
      ]
    },
    {
      "cell_type": "markdown",
      "source": [
        "# Exercício\n",
        "crie uma lista em reais com os valores:\n",
        "1, 2, 5, 10, 20, 50, 100 e 200. Faça a converção de reais para dolar atual. Mostre em tela as duas comparações."
      ],
      "metadata": {
        "id": "5b5KuScwLczI"
      }
    },
    {
      "cell_type": "code",
      "source": [
        "import requests\n",
        "import json\n",
        "\n",
        "reais = [1,2,5,10,20,50,100,200]\n",
        "cotacao = requests.get(url).content\n",
        "dic = json.loads(cotacao)\n",
        "dolar = [round (x/float(dic[\"USDBRL\"][\"bid\"]),2) for x in reais]\n",
        "\n",
        "print(\"{:<4}{:<6}{:<7}\".format(\"Nº\",\"USD\",\"BRL\"))\n",
        "for x in range(0,len(reais)):\n",
        "  print(\"{:<4}{:<6}{:<7}\".format(x+1,dolar[x],reais[x]))"
      ],
      "metadata": {
        "colab": {
          "base_uri": "https://localhost:8080/"
        },
        "id": "qjh-1rwcMp-E",
        "outputId": "62f93d7d-5f69-4ae7-985b-156cbce98698"
      },
      "execution_count": 97,
      "outputs": [
        {
          "output_type": "stream",
          "name": "stdout",
          "text": [
            "Nº  USD   BRL    \n",
            "1   0.17  1      \n",
            "2   0.34  2      \n",
            "3   0.86  5      \n",
            "4   1.72  10     \n",
            "5   3.44  20     \n",
            "6   8.61  50     \n",
            "7   17.22 100    \n",
            "8   34.45 200    \n"
          ]
        }
      ]
    },
    {
      "cell_type": "markdown",
      "source": [
        "# Exercício 2\n",
        "crie uma lista dos valores em euros atuais"
      ],
      "metadata": {
        "id": "WfUiWua7Rfm5"
      }
    },
    {
      "cell_type": "code",
      "source": [],
      "metadata": {
        "id": "WxPBlvhiVwig"
      },
      "execution_count": 35,
      "outputs": []
    },
    {
      "cell_type": "code",
      "source": [
        "url = \"https://economia.awesomeapi.com.br/json/last/EUR-BRL\"\n",
        "reais = [1,2,5,10,20,50,100,200]\n",
        "cotacao = requests.get(url).content\n",
        "dic = json.loads(cotacao)\n",
        "euro = [round(x/float(dic[\"EURBRL\"][\"bid\"]),2) for x in reais]\n",
        "\n",
        "print(\"{:<4}{:<6}{:<7}\".format(\"Nº\",\"BRl\",\"EUR\"))\n",
        "for x in range(0,len(reais)):\n",
        "  print(\"{:<4}{:<6}{:<7}\".format(x+1,reais[x],euro[x]))"
      ],
      "metadata": {
        "colab": {
          "base_uri": "https://localhost:8080/"
        },
        "id": "mCiqT5S7Y7G3",
        "outputId": "f57c5d01-c88d-4ba3-8185-7711b5fc1d7a"
      },
      "execution_count": 98,
      "outputs": [
        {
          "output_type": "stream",
          "name": "stdout",
          "text": [
            "Nº  BRl   EUR    \n",
            "1   1     0.16   \n",
            "2   2     0.33   \n",
            "3   5     0.82   \n",
            "4   10    1.63   \n",
            "5   20    3.26   \n",
            "6   50    8.16   \n",
            "7   100   16.32  \n",
            "8   200   32.64  \n"
          ]
        }
      ]
    },
    {
      "cell_type": "markdown",
      "source": [
        "# Execício 3\n",
        "crie uma lista em reais com os valores: 1, 2, 5, 10, 20, 50, 100 e 200. Faça a converção de reais para dolar atual. Mostre em tela as duas comparações."
      ],
      "metadata": {
        "id": "33xGQ6yla2Ea"
      }
    },
    {
      "cell_type": "code",
      "source": [
        "\n",
        "url1 = \"https://economia.awesomeapi.com.br/json/last/ARS-BRL\"\n",
        "url2 = \"https://economia.awesomeapi.com.br/json/last/EUR-BRL\"\n",
        "url3 = \"https://economia.awesomeapi.com.br/json/last/RUB-BRL\"\n",
        "\n",
        "cot1 = requests.get(url1).content\n",
        "cot2 = requests.get(url2).content\n",
        "cot3 = requests.get(url3).content\n",
        "\n",
        "dic1 = json.loads(cot1)\n",
        "dic2 = json.loads(cot2)\n",
        "dic3 = json.loads(cot3)\n",
        "\n",
        "reais = [1,2,5,10,20,50,100,200]\n",
        "ars = [round(x/float(dic1[\"ARSBRL\"][\"bid\"]),2) for x in reais]\n",
        "eur = [round(x/float(dic2[\"EURBRL\"][\"bid\"]),2) for x in reais]\n",
        "rus = [round(x/float(dic3[\"RUBBRL\"][\"bid\"]),2) for x in reais]\n",
        "\n",
        "print(\"{:<7}{:<7}{:<7}{:<7}{:<7}\".format(\"Nº\",\"BRl\",\"ARS\",\"EUR\",\"RUB\"))\n",
        "print(\"________________________________________________\")\n",
        "for x in range(0,len(reais)):\n",
        "  print(\"{:<4}{:<4}{:<10}{:<10}{:<10}\".format(x,reais[x],ars[x],eur[x],rus[x]))\n",
        "\n"
      ],
      "metadata": {
        "colab": {
          "base_uri": "https://localhost:8080/"
        },
        "id": "H1-27_t-blcs",
        "outputId": "564856e4-0fb8-4d84-bd00-8cdd3752012e"
      },
      "execution_count": 107,
      "outputs": [
        {
          "output_type": "stream",
          "name": "stdout",
          "text": [
            "Nº     BRl    ARS    EUR    RUB    \n",
            "________________________________________________\n",
            "0   1   172.41    0.16      16.96     \n",
            "1   2   344.83    0.33      33.93     \n",
            "2   5   862.07    0.82      84.82     \n",
            "3   10  1724.14   1.63      169.64    \n",
            "4   20  3448.28   3.26      339.27    \n",
            "5   50  8620.69   8.16      848.18    \n",
            "6   100 17241.38  16.32     1696.35   \n",
            "7   200 34482.76  32.64     3392.71   \n"
          ]
        }
      ]
    }
  ]
}